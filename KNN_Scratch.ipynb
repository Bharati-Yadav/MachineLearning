{
 "cells": [
  {
   "cell_type": "code",
   "execution_count": 1,
   "metadata": {},
   "outputs": [],
   "source": [
    "import numpy as np\n",
    "from math import sqrt"
   ]
  },
  {
   "cell_type": "code",
   "execution_count": 3,
   "metadata": {},
   "outputs": [],
   "source": [
    "c1= np.array([[2,3],[4,5]])\n",
    "c2=np.array([[12,13],[14,15]])\n",
    "c = 8\n",
    "d = 9\n",
    "dist = 0\n",
    "list_a = []\n",
    "list_b = []\n"
   ]
  },
  {
   "cell_type": "code",
   "execution_count": 5,
   "metadata": {},
   "outputs": [
    {
     "name": "stdout",
     "output_type": "stream",
     "text": [
      "[8.48528137423857, 5.656854249492381]\n",
      "[5.656854249492381, 8.48528137423857]\n",
      "[5.656854249492381, 5.656854249492381, 8.48528137423857, 8.48528137423857]\n"
     ]
    }
   ],
   "source": [
    "for i in range(0,len(c1)):\n",
    "    j=0\n",
    "    a = sqrt((c1[i,j]-c)**2 + (c1[i,j+1]-d)**2)\n",
    "    list_a.append(a)\n",
    "    b = sqrt((c2[i,j]-c)**2 + (c2[i,j+1]-d)**2)\n",
    "    list_b.append(b)\n",
    "print(list_a)\n",
    "print(list_b)\n",
    "\n",
    "list_c = list_a\n",
    "list_c.extend(list_b)\n",
    "list_c.sort()\n",
    "print(list_c)"
   ]
  },
  {
   "cell_type": "code",
   "execution_count": 7,
   "metadata": {},
   "outputs": [
    {
     "name": "stdout",
     "output_type": "stream",
     "text": [
      "Enter the value of k\n",
      "3\n",
      "The point belongs to cluster1\n"
     ]
    }
   ],
   "source": [
    "print(\"Enter the value of k\")\n",
    "k = int(input())\n",
    "x = 0\n",
    "y = 0\n",
    "for m in range(0,k-1):\n",
    "    for n in range(0,len(list_a)-1):\n",
    "        if(list_a[n] == list_c[m]):\n",
    "            x = x + 1\n",
    "    for p in range(0,len(list_b)-1):\n",
    "        if(list_b[p] == list_c[m]):\n",
    "            y = y + 1\n",
    "if(x>y):\n",
    "    print(\"The point belongs to cluster1\")\n",
    "elif(y>x):\n",
    "    print(\"The point belongs to cluster2\")\n"
   ]
  },
  {
   "cell_type": "code",
   "execution_count": null,
   "metadata": {},
   "outputs": [],
   "source": []
  }
 ],
 "metadata": {
  "kernelspec": {
   "display_name": "Python 3",
   "language": "python",
   "name": "python3"
  },
  "language_info": {
   "codemirror_mode": {
    "name": "ipython",
    "version": 3
   },
   "file_extension": ".py",
   "mimetype": "text/x-python",
   "name": "python",
   "nbconvert_exporter": "python",
   "pygments_lexer": "ipython3",
   "version": "3.7.3"
  }
 },
 "nbformat": 4,
 "nbformat_minor": 2
}
